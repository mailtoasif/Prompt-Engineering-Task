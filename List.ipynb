{
 "cells": [
  {
   "cell_type": "code",
   "execution_count": 7,
   "id": "3737740e-ab55-4bb5-8748-e1a71c16329e",
   "metadata": {},
   "outputs": [],
   "source": [
    "a = [1, 8, -5 +6]\n"
   ]
  },
  {
   "cell_type": "code",
   "execution_count": 8,
   "id": "63cb7077-4d44-459a-a3e3-4a257275e4e4",
   "metadata": {},
   "outputs": [
    {
     "name": "stdout",
     "output_type": "stream",
     "text": [
      "[1, 8, 1]\n"
     ]
    }
   ],
   "source": [
    "print(a)"
   ]
  },
  {
   "cell_type": "code",
   "execution_count": 9,
   "id": "c0eacadd-4b7a-4db1-9d46-144c42c88352",
   "metadata": {},
   "outputs": [],
   "source": [
    "a.append(232)"
   ]
  },
  {
   "cell_type": "code",
   "execution_count": 10,
   "id": "3a765410-60b2-4dcb-a299-16b61cd625f4",
   "metadata": {},
   "outputs": [
    {
     "name": "stdout",
     "output_type": "stream",
     "text": [
      "[1, 8, 1, 232]\n"
     ]
    }
   ],
   "source": [
    "print(a)"
   ]
  },
  {
   "cell_type": "code",
   "execution_count": 11,
   "id": "0d633ae1-75c6-495f-846e-eaa37374a92b",
   "metadata": {},
   "outputs": [
    {
     "name": "stdout",
     "output_type": "stream",
     "text": [
      "[1, 8, 1, 232, [555]]\n"
     ]
    }
   ],
   "source": [
    "a.append([555])\n",
    "print(a)"
   ]
  },
  {
   "cell_type": "code",
   "execution_count": 12,
   "id": "91874d69-e3cc-4136-83a4-11ca5309f832",
   "metadata": {},
   "outputs": [
    {
     "name": "stdout",
     "output_type": "stream",
     "text": [
      "[1, 8, 1, 232, [555], 'hello']\n"
     ]
    }
   ],
   "source": [
    "a.append(\"hello\")\n",
    "print(a)"
   ]
  },
  {
   "cell_type": "code",
   "execution_count": 13,
   "id": "b807e6ae-a23d-481c-890f-d1b4ea09d302",
   "metadata": {},
   "outputs": [
    {
     "name": "stdout",
     "output_type": "stream",
     "text": [
      "[1, 8, 1, 232, [555]]\n"
     ]
    }
   ],
   "source": [
    "a.pop()\n",
    "print(a)"
   ]
  },
  {
   "cell_type": "code",
   "execution_count": 14,
   "id": "d1f21283-464a-4082-97bc-bec81a34fb4a",
   "metadata": {},
   "outputs": [
    {
     "name": "stdout",
     "output_type": "stream",
     "text": [
      "[1, 8, 1, 232]\n"
     ]
    }
   ],
   "source": [
    "a.pop()\n",
    "print(a)"
   ]
  },
  {
   "cell_type": "code",
   "execution_count": 15,
   "id": "073c9e91-ae9d-4227-aa5a-d083bbfc0379",
   "metadata": {},
   "outputs": [
    {
     "data": {
      "text/plain": [
       "232"
      ]
     },
     "execution_count": 15,
     "metadata": {},
     "output_type": "execute_result"
    }
   ],
   "source": [
    "a[3]"
   ]
  },
  {
   "cell_type": "code",
   "execution_count": 16,
   "id": "df9324d1-b21f-4618-8b09-724bc04b5bd3",
   "metadata": {},
   "outputs": [
    {
     "name": "stdout",
     "output_type": "stream",
     "text": [
      "232\n"
     ]
    }
   ],
   "source": [
    "print(a[3])"
   ]
  },
  {
   "cell_type": "code",
   "execution_count": 17,
   "id": "80eae7bc-2462-48e5-b273-9a49a96cc48d",
   "metadata": {},
   "outputs": [],
   "source": [
    "a [3] = 5"
   ]
  },
  {
   "cell_type": "code",
   "execution_count": 18,
   "id": "3da06cd4-6e7b-464f-af1a-f2a16e4779cc",
   "metadata": {},
   "outputs": [
    {
     "name": "stdout",
     "output_type": "stream",
     "text": [
      "[1, 8, 1, 5]\n"
     ]
    }
   ],
   "source": [
    "print(a)"
   ]
  },
  {
   "cell_type": "code",
   "execution_count": 19,
   "id": "5f00da6b-3bda-40ba-a2a2-2598f86d4d0c",
   "metadata": {},
   "outputs": [],
   "source": [
    "b = [\"banana\", \"apple\", \"mango\"]"
   ]
  },
  {
   "cell_type": "code",
   "execution_count": 20,
   "id": "9ff27db2-a4c7-4061-b937-d037170a6fab",
   "metadata": {},
   "outputs": [
    {
     "name": "stdout",
     "output_type": "stream",
     "text": [
      "['banana', 'apple', 'mango']\n"
     ]
    }
   ],
   "source": [
    "print(b)"
   ]
  },
  {
   "cell_type": "code",
   "execution_count": 21,
   "id": "c07d5f25-1f7c-4bc0-85b4-10973cb4fa69",
   "metadata": {},
   "outputs": [
    {
     "name": "stdout",
     "output_type": "stream",
     "text": [
      "['mango', 'apple', 'banana']\n"
     ]
    }
   ],
   "source": [
    "tmp= b[0]\n",
    "b[0] = b[2]\n",
    "b[2] = tmp\n",
    "print(b)"
   ]
  },
  {
   "cell_type": "code",
   "execution_count": null,
   "id": "e542137e-bb97-4e4a-bb90-14b54008927b",
   "metadata": {},
   "outputs": [],
   "source": []
  }
 ],
 "metadata": {
  "kernelspec": {
   "display_name": "Python 3 (ipykernel)",
   "language": "python",
   "name": "python3"
  },
  "language_info": {
   "codemirror_mode": {
    "name": "ipython",
    "version": 3
   },
   "file_extension": ".py",
   "mimetype": "text/x-python",
   "name": "python",
   "nbconvert_exporter": "python",
   "pygments_lexer": "ipython3",
   "version": "3.11.7"
  }
 },
 "nbformat": 4,
 "nbformat_minor": 5
}
