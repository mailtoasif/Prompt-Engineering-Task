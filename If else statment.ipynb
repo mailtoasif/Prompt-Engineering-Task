{
 "cells": [
  {
   "cell_type": "code",
   "execution_count": 4,
   "id": "0f17a729-c176-4e07-b493-1876d2eea30a",
   "metadata": {},
   "outputs": [
    {
     "name": "stdout",
     "output_type": "stream",
     "text": [
      "A is less than b\n",
      "A is much lesser than b\n",
      "A is more less than b\n"
     ]
    }
   ],
   "source": [
    "a = 1 \n",
    "b = 2 \n",
    "\n",
    "if a < b:\n",
    "    print(\"A is less than b\")\n",
    "    print(\"A is much lesser than b\")\n",
    "print(\"A is more less than b\")"
   ]
  },
  {
   "cell_type": "code",
   "execution_count": 16,
   "id": "1a6d5842-0898-41b0-b8f5-c300e078041d",
   "metadata": {},
   "outputs": [
    {
     "name": "stdout",
     "output_type": "stream",
     "text": [
      "C is  bigger than d\n",
      "C is less than d it is out from \n"
     ]
    }
   ],
   "source": [
    "c = 20\n",
    "d = 9\n",
    "if c < d:\n",
    "    print(\"C is less than d\")\n",
    "elif c==d:\n",
    "    print(\"C  is not less than d\")\n",
    "elif c > d:\n",
    "    print(\"C is  bigger than d\")\n",
    "else:\n",
    "    print(\"C is not equal to d\")\n",
    "\n",
    "print(\"C is less than d it is out from \")"
   ]
  },
  {
   "cell_type": "code",
   "execution_count": 22,
   "id": "ab942e48-6f65-4372-b4e7-91577fa601ad",
   "metadata": {},
   "outputs": [
    {
     "name": "stdout",
     "output_type": "stream",
     "text": [
      "G is less than h\n"
     ]
    }
   ],
   "source": [
    "g = 7\n",
    "h =8\n",
    "\n",
    "if g > h:\n",
    "    print(\"G is greater than h\")\n",
    "else:\n",
    "    if g < h:\n",
    "         print(\"G is less than h\")\n",
    "    else:\n",
    "         print(\"g is not equal to h\")\n"
   ]
  },
  {
   "cell_type": "code",
   "execution_count": null,
   "id": "b013438c-ca49-49a4-8ba4-a4ac78e7a8ca",
   "metadata": {},
   "outputs": [],
   "source": []
  }
 ],
 "metadata": {
  "kernelspec": {
   "display_name": "Python 3 (ipykernel)",
   "language": "python",
   "name": "python3"
  },
  "language_info": {
   "codemirror_mode": {
    "name": "ipython",
    "version": 3
   },
   "file_extension": ".py",
   "mimetype": "text/x-python",
   "name": "python",
   "nbconvert_exporter": "python",
   "pygments_lexer": "ipython3",
   "version": "3.11.7"
  }
 },
 "nbformat": 4,
 "nbformat_minor": 5
}
