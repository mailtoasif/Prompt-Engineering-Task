{
 "cells": [
  {
   "cell_type": "code",
   "execution_count": 1,
   "id": "cd330cb3-85c9-48f8-b539-ea935f7460b0",
   "metadata": {},
   "outputs": [],
   "source": [
    "a = [ \"banana\", \"apple\", \"mango\"]"
   ]
  },
  {
   "cell_type": "code",
   "execution_count": 2,
   "id": "f359aa85-1c69-47da-92f4-a213e7c9d976",
   "metadata": {},
   "outputs": [
    {
     "name": "stdout",
     "output_type": "stream",
     "text": [
      "['banana', 'apple', 'mango']\n"
     ]
    }
   ],
   "source": [
    "print(a)"
   ]
  },
  {
   "cell_type": "code",
   "execution_count": 5,
   "id": "356750f5-0947-4a73-b2d1-91000c5b9005",
   "metadata": {},
   "outputs": [
    {
     "name": "stdout",
     "output_type": "stream",
     "text": [
      "banana\n",
      "banana\n",
      "apple\n",
      "apple\n",
      "mango\n",
      "mango\n"
     ]
    }
   ],
   "source": [
    "for element in a:\n",
    "    print(element)\n",
    "    print(element)"
   ]
  },
  {
   "cell_type": "code",
   "execution_count": 9,
   "id": "866e020e-1db2-4f51-bcd0-1bad7ad44bb0",
   "metadata": {},
   "outputs": [
    {
     "name": "stdout",
     "output_type": "stream",
     "text": [
      "20\n",
      "28\n",
      "20\n"
     ]
    }
   ],
   "source": [
    "b = [20, 28, 20]\n",
    "for e in b:\n",
    "    print(e)"
   ]
  },
  {
   "cell_type": "code",
   "execution_count": 12,
   "id": "bc5a042b-dcf9-42bd-9b87-1d26025cdac0",
   "metadata": {},
   "outputs": [
    {
     "name": "stdout",
     "output_type": "stream",
     "text": [
      "asif\n",
      "awais\n",
      "haider\n"
     ]
    }
   ],
   "source": [
    "c = [\"asif\", \"awais\", \"haider\"]\n",
    "for e in c:\n",
    "    print(e)"
   ]
  },
  {
   "cell_type": "code",
   "execution_count": 15,
   "id": "ef036880-46fd-451a-9800-0587eebf5272",
   "metadata": {},
   "outputs": [
    {
     "name": "stdout",
     "output_type": "stream",
     "text": [
      "35\n"
     ]
    }
   ],
   "source": [
    "k = [20, 10, 5]\n",
    "total = 0\n",
    "for e in k:\n",
    "    total = total + e\n",
    "print(total)\n"
   ]
  },
  {
   "cell_type": "code",
   "execution_count": 18,
   "id": "09c906eb-4523-4b33-853a-f94b62a8133a",
   "metadata": {},
   "outputs": [
    {
     "name": "stdout",
     "output_type": "stream",
     "text": [
      "[1, 2, 3, 4]\n"
     ]
    }
   ],
   "source": [
    "c =list(range(1, 5))\n",
    "print(c)"
   ]
  },
  {
   "cell_type": "code",
   "execution_count": 22,
   "id": "db2f7db9-7c17-459f-abb2-f2251cfac8b4",
   "metadata": {},
   "outputs": [
    {
     "name": "stdout",
     "output_type": "stream",
     "text": [
      "10\n"
     ]
    }
   ],
   "source": [
    "total = 0\n",
    "for e in c:\n",
    "    total = total + e\n",
    "print(total)"
   ]
  },
  {
   "cell_type": "code",
   "execution_count": 26,
   "id": "20d89954-da6f-4046-a19c-1d6835b5a2b6",
   "metadata": {},
   "outputs": [
    {
     "name": "stdout",
     "output_type": "stream",
     "text": [
      "[1, 2, 3, 4, 5, 6, 7, 8, 9, 10, 11, 12, 13, 14, 15, 16, 17, 18, 19, 20, 21, 22, 23, 24, 25, 26, 27, 28, 29, 30, 31, 32, 33, 34, 35, 36, 37, 38, 39, 40, 41, 42, 43, 44, 45, 46, 47, 48, 49, 50, 51, 52, 53, 54, 55, 56, 57, 58, 59, 60, 61, 62, 63, 64, 65, 66, 67, 68, 69, 70, 71, 72, 73, 74, 75, 76, 77, 78, 79, 80, 81, 82, 83, 84, 85, 86, 87, 88, 89, 90, 91, 92, 93, 94, 95, 96, 97, 98, 99]\n"
     ]
    }
   ],
   "source": [
    " a = list(range(1 ,100))\n",
    " print(a)"
   ]
  },
  {
   "cell_type": "code",
   "execution_count": 31,
   "id": "df421203-3f4f-477c-9ed1-94d989d7c879",
   "metadata": {},
   "outputs": [
    {
     "name": "stdout",
     "output_type": "stream",
     "text": [
      "4950\n"
     ]
    }
   ],
   "source": [
    "total = 0\n",
    "for e in a:\n",
    "    total = total + e\n",
    "print(total)"
   ]
  },
  {
   "cell_type": "code",
   "execution_count": 34,
   "id": "ff1b2115-b247-4261-8b8d-319d790a1d57",
   "metadata": {},
   "outputs": [
    {
     "name": "stdout",
     "output_type": "stream",
     "text": [
      "43\n"
     ]
    }
   ],
   "source": [
    "print( 243% 100 )"
   ]
  },
  {
   "cell_type": "code",
   "execution_count": null,
   "id": "a20c00e2-55b7-426e-9d3b-985dec5323c4",
   "metadata": {},
   "outputs": [],
   "source": []
  }
 ],
 "metadata": {
  "kernelspec": {
   "display_name": "Python 3 (ipykernel)",
   "language": "python",
   "name": "python3"
  },
  "language_info": {
   "codemirror_mode": {
    "name": "ipython",
    "version": 3
   },
   "file_extension": ".py",
   "mimetype": "text/x-python",
   "name": "python",
   "nbconvert_exporter": "python",
   "pygments_lexer": "ipython3",
   "version": "3.11.7"
  }
 },
 "nbformat": 4,
 "nbformat_minor": 5
}
