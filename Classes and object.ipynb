{
 "cells": [
  {
   "cell_type": "code",
   "execution_count": 15,
   "id": "5f073b9d-cccb-4f6d-98ef-cc5ce617997b",
   "metadata": {},
   "outputs": [],
   "source": [
    "class Robot:\n",
    "    def__init__(self, n, c, w):\n",
    "        self.name = n\n",
    "        self.color = c\n",
    "        self.weight = w\n",
    "    \n",
    "    def introduce_self(self):\n",
    "        print(\"My name is \" +self.name)  #this is java\n",
    "        "
   ]
  },
  {
   "cell_type": "code",
   "execution_count": 18,
   "id": "99bcd11d-ce0e-409b-8502-937a691d90a2",
   "metadata": {},
   "outputs": [
    {
     "data": {
      "text/plain": [
       "'\\n1 = Robot()\\nr1.name = \"asif\"\\nr1.weight = 30\\nr1.colour = \"white\"\\nr2 = Robot()\\nr2.name = \"Awais\"\\nr2.weight = 34\\nr2.colour = \"black\"\\n'"
      ]
     },
     "execution_count": 18,
     "metadata": {},
     "output_type": "execute_result"
    }
   ],
   "source": [
    "r1 = Robot()\n",
    "r1.name = \"asif\"\n",
    "r1.weight = 30\n",
    "r1.colour = \"white\"\n",
    "r2 = Robot()\n",
    "r2.name = \"Awais\"\n",
    "r2.weight = 34\n",
    "r2.colour = \"black\""
   ]
  },
  {
   "cell_type": "code",
   "execution_count": 17,
   "id": "22d54be0-3cc5-4c49-aad0-f9f0a57c0a82",
   "metadata": {},
   "outputs": [
    {
     "name": "stdout",
     "output_type": "stream",
     "text": [
      "My name is asif\n",
      "My name is Awais\n"
     ]
    }
   ],
   "source": [
    "r1.introduce_self()\n",
    "r2.introduce_self()"
   ]
  },
  {
   "cell_type": "code",
   "execution_count": 19,
   "id": "d42e35b6-58a8-4c82-8612-fb01712d07fb",
   "metadata": {},
   "outputs": [
    {
     "ename": "SyntaxError",
     "evalue": "invalid syntax (883409234.py, line 2)",
     "output_type": "error",
     "traceback": [
      "\u001b[1;36m  Cell \u001b[1;32mIn[19], line 2\u001b[1;36m\u001b[0m\n\u001b[1;33m    def__init__(self, n, c, w):\u001b[0m\n\u001b[1;37m                              ^\u001b[0m\n\u001b[1;31mSyntaxError\u001b[0m\u001b[1;31m:\u001b[0m invalid syntax\n"
     ]
    }
   ],
   "source": [
    "class Robot:\n",
    "    def__init__(self, n, c, w):\n",
    "        self.name = n\n",
    "        self.color = c\n",
    "        self.weight = w\n",
    "    \n",
    "    def introduce_self(self):\n",
    "        print(\"My name is \" +self.name)  #this is java"
   ]
  },
  {
   "cell_type": "code",
   "execution_count": null,
   "id": "1bc53ddb-fd55-4f89-a831-54822eeb7f1c",
   "metadata": {},
   "outputs": [],
   "source": []
  }
 ],
 "metadata": {
  "kernelspec": {
   "display_name": "Python 3 (ipykernel)",
   "language": "python",
   "name": "python3"
  },
  "language_info": {
   "codemirror_mode": {
    "name": "ipython",
    "version": 3
   },
   "file_extension": ".py",
   "mimetype": "text/x-python",
   "name": "python",
   "nbconvert_exporter": "python",
   "pygments_lexer": "ipython3",
   "version": "3.11.7"
  }
 },
 "nbformat": 4,
 "nbformat_minor": 5
}
