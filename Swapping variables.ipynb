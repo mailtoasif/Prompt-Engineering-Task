{
 "cells": [
  {
   "cell_type": "code",
   "execution_count": 14,
   "id": "de629d16-5111-4c38-9b84-a3dc821c721e",
   "metadata": {},
   "outputs": [],
   "source": [
    "import builtins\n",
    "\n",
    "print = builtins.print\n",
    "v1 =\"firts string\"\n",
    "v2  =\"second string\"\n"
   ]
  },
  {
   "cell_type": "code",
   "execution_count": 15,
   "id": "bfabd3c6-8215-4268-b218-6890f1208981",
   "metadata": {},
   "outputs": [],
   "source": [
    "temp = v1\n",
    "v1 =v2\n",
    "v2 =temp"
   ]
  },
  {
   "cell_type": "code",
   "execution_count": 16,
   "id": "ba0a799e-b7de-48dc-986e-5a3eb2b6f461",
   "metadata": {},
   "outputs": [
    {
     "name": "stdout",
     "output_type": "stream",
     "text": [
      "second string\n"
     ]
    }
   ],
   "source": [
    "print(v1)"
   ]
  },
  {
   "cell_type": "code",
   "execution_count": null,
   "id": "5326a975-9824-4858-832a-2b76d10cb216",
   "metadata": {},
   "outputs": [],
   "source": []
  }
 ],
 "metadata": {
  "kernelspec": {
   "display_name": "Python 3 (ipykernel)",
   "language": "python",
   "name": "python3"
  },
  "language_info": {
   "codemirror_mode": {
    "name": "ipython",
    "version": 3
   },
   "file_extension": ".py",
   "mimetype": "text/x-python",
   "name": "python",
   "nbconvert_exporter": "python",
   "pygments_lexer": "ipython3",
   "version": "3.11.7"
  }
 },
 "nbformat": 4,
 "nbformat_minor": 5
}
