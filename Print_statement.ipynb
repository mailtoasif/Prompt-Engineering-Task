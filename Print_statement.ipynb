{
 "cells": [
  {
   "cell_type": "code",
   "execution_count": 1,
   "id": "6c3d3f94-28ff-4755-b879-83ce75309b7b",
   "metadata": {},
   "outputs": [
    {
     "name": "stdout",
     "output_type": "stream",
     "text": [
      "Hello World\n"
     ]
    }
   ],
   "source": [
    "print(\"Hello World\")"
   ]
  },
  {
   "cell_type": "code",
   "execution_count": 2,
   "id": "b40f5c3d-7202-4944-aa21-fbfa3a1b19cd",
   "metadata": {},
   "outputs": [
    {
     "name": "stdout",
     "output_type": "stream",
     "text": [
      "print string\n"
     ]
    }
   ],
   "source": [
    "print('print string')"
   ]
  },
  {
   "cell_type": "code",
   "execution_count": 3,
   "id": "eb90c695-03ed-437b-b324-72e457db3167",
   "metadata": {},
   "outputs": [
    {
     "name": "stdout",
     "output_type": "stream",
     "text": [
      "3\n"
     ]
    }
   ],
   "source": [
    "print(3)"
   ]
  },
  {
   "cell_type": "code",
   "execution_count": 4,
   "id": "e6d23abd-d6f0-480e-99c6-0b4e816f33aa",
   "metadata": {},
   "outputs": [
    {
     "name": "stdout",
     "output_type": "stream",
     "text": [
      "print string\n",
      "3\n"
     ]
    }
   ],
   "source": [
    "print('print string')\n",
    "print(3)"
   ]
  },
  {
   "cell_type": "code",
   "execution_count": 27,
   "id": "fbdb8fac-9c89-4aef-8eed-2fb6fd76d65c",
   "metadata": {},
   "outputs": [],
   "source": [
    "import builtins\n",
    "\n",
    "print = builtins.print"
   ]
  },
  {
   "cell_type": "code",
   "execution_count": 28,
   "id": "67ec1e51-4d20-4119-aaac-8c37818b59f3",
   "metadata": {},
   "outputs": [
    {
     "name": "stdout",
     "output_type": "stream",
     "text": [
      "1\n"
     ]
    }
   ],
   "source": [
    "    print(a)"
   ]
  },
  {
   "cell_type": "code",
   "execution_count": 29,
   "id": "0e6c2567-5e3e-488f-8958-3139e5b84a90",
   "metadata": {},
   "outputs": [],
   "source": [
    " b = 2 \n"
   ]
  },
  {
   "cell_type": "code",
   "execution_count": 30,
   "id": "d76b9c8d-34e3-4b8c-a7bb-3a1a98a398c9",
   "metadata": {},
   "outputs": [
    {
     "name": "stdout",
     "output_type": "stream",
     "text": [
      "2\n"
     ]
    }
   ],
   "source": [
    "print(b)"
   ]
  },
  {
   "cell_type": "code",
   "execution_count": 31,
   "id": "717f9859-5be2-46c6-a670-e3e07eb522dc",
   "metadata": {},
   "outputs": [
    {
     "name": "stdout",
     "output_type": "stream",
     "text": [
      "1\n"
     ]
    }
   ],
   "source": [
    "print(a)"
   ]
  },
  {
   "cell_type": "code",
   "execution_count": 32,
   "id": "04599276-fa31-4e72-a3e3-0b99670882b9",
   "metadata": {},
   "outputs": [
    {
     "name": "stdout",
     "output_type": "stream",
     "text": [
      "1\n",
      "2\n"
     ]
    }
   ],
   "source": [
    "print(a)\n",
    "print(b)\n"
   ]
  },
  {
   "cell_type": "code",
   "execution_count": 33,
   "id": "6c878b1e-4a06-456a-bd7b-08e0127f255d",
   "metadata": {},
   "outputs": [],
   "source": [
    "c = \"hello there\"\n"
   ]
  },
  {
   "cell_type": "code",
   "execution_count": 34,
   "id": "26ed1ce4-fab6-403b-8d4d-5b3943de36c2",
   "metadata": {},
   "outputs": [
    {
     "name": "stdout",
     "output_type": "stream",
     "text": [
      "hello there\n"
     ]
    }
   ],
   "source": [
    "print(c)"
   ]
  },
  {
   "cell_type": "code",
   "execution_count": 35,
   "id": "02912f2b-ca83-4124-87e7-609654c8e412",
   "metadata": {},
   "outputs": [],
   "source": [
    "b = 1\n"
   ]
  },
  {
   "cell_type": "code",
   "execution_count": 36,
   "id": "8b1d8434-8367-4762-81c5-40f9e0978bb4",
   "metadata": {},
   "outputs": [
    {
     "name": "stdout",
     "output_type": "stream",
     "text": [
      "1\n"
     ]
    }
   ],
   "source": [
    "print(b)"
   ]
  },
  {
   "cell_type": "code",
   "execution_count": 37,
   "id": "36eedee6-7ee4-4e90-82b8-47e1c29117de",
   "metadata": {},
   "outputs": [
    {
     "name": "stdout",
     "output_type": "stream",
     "text": [
      "hello there\n"
     ]
    }
   ],
   "source": [
    "print(c)"
   ]
  },
  {
   "cell_type": "code",
   "execution_count": 39,
   "id": "0e93ef79-e3bf-42d8-99cb-c4732b48aa85",
   "metadata": {},
   "outputs": [],
   "source": [
    "e = \"I am using python\""
   ]
  },
  {
   "cell_type": "code",
   "execution_count": 40,
   "id": "dff36436-078a-4568-b6d9-933e7ef6f5a9",
   "metadata": {},
   "outputs": [
    {
     "name": "stdout",
     "output_type": "stream",
     "text": [
      "I am using python\n"
     ]
    }
   ],
   "source": [
    "print(e)"
   ]
  },
  {
   "cell_type": "code",
   "execution_count": 41,
   "id": "51c03a1b-1082-404a-af8c-ef91b7d463df",
   "metadata": {},
   "outputs": [
    {
     "name": "stdout",
     "output_type": "stream",
     "text": [
      "1\n",
      "I am using python\n"
     ]
    }
   ],
   "source": [
    "print(b)\n",
    "print(e)"
   ]
  },
  {
   "cell_type": "code",
   "execution_count": 43,
   "id": "3e12b87b-0b4b-4d27-b673-87fd21eabb2c",
   "metadata": {},
   "outputs": [],
   "source": [
    "j = b"
   ]
  },
  {
   "cell_type": "code",
   "execution_count": 44,
   "id": "5204b183-3803-4f4f-8bf8-b4f6383d735a",
   "metadata": {},
   "outputs": [
    {
     "name": "stdout",
     "output_type": "stream",
     "text": [
      "1\n"
     ]
    }
   ],
   "source": [
    "print(j)"
   ]
  },
  {
   "cell_type": "code",
   "execution_count": 45,
   "id": "4be72fc9-f27e-4e17-94f2-5166ba82b83b",
   "metadata": {},
   "outputs": [],
   "source": [
    "m = e"
   ]
  },
  {
   "cell_type": "code",
   "execution_count": 46,
   "id": "d9a8e2c4-39ab-4d61-9536-72583ea6dc4f",
   "metadata": {},
   "outputs": [
    {
     "name": "stdout",
     "output_type": "stream",
     "text": [
      "I am using python\n"
     ]
    }
   ],
   "source": [
    "print(m)"
   ]
  },
  {
   "cell_type": "code",
   "execution_count": null,
   "id": "b939a48a-f3db-4e9c-b5bf-8c8cf34395e3",
   "metadata": {},
   "outputs": [],
   "source": []
  }
 ],
 "metadata": {
  "kernelspec": {
   "display_name": "Python 3 (ipykernel)",
   "language": "python",
   "name": "python3"
  },
  "language_info": {
   "codemirror_mode": {
    "name": "ipython",
    "version": 3
   },
   "file_extension": ".py",
   "mimetype": "text/x-python",
   "name": "python",
   "nbconvert_exporter": "python",
   "pygments_lexer": "ipython3",
   "version": "3.11.7"
  }
 },
 "nbformat": 4,
 "nbformat_minor": 5
}
