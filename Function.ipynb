{
 "cells": [
  {
   "cell_type": "code",
   "execution_count": 5,
   "id": "e2549261-d14b-4818-b138-862b4f1c3e7f",
   "metadata": {},
   "outputs": [
    {
     "name": "stdout",
     "output_type": "stream",
     "text": [
      "Avennger is a not a game\n"
     ]
    }
   ],
   "source": [
    "def function1():\n",
    "    print(\"hello\")\n",
    "    print(\"Avengers\")\n",
    "    print(\"games\")\n",
    "print(\"Avennger is a not a game\")"
   ]
  },
  {
   "cell_type": "code",
   "execution_count": 4,
   "id": "4f7483dd-dc07-408f-9406-291c46ea5e22",
   "metadata": {},
   "outputs": [
    {
     "name": "stdout",
     "output_type": "stream",
     "text": [
      "hello\n",
      "Avengers\n",
      "games\n"
     ]
    }
   ],
   "source": [
    "function1()"
   ]
  },
  {
   "cell_type": "code",
   "execution_count": 7,
   "id": "08286277-7e33-4a25-a419-24a814076620",
   "metadata": {},
   "outputs": [
    {
     "name": "stdout",
     "output_type": "stream",
     "text": [
      "hello\n",
      "Avengers\n",
      "games\n",
      "hello\n",
      "Avengers\n",
      "games\n"
     ]
    }
   ],
   "source": [
    "function1()\n",
    "function1()\n"
   ]
  },
  {
   "cell_type": "code",
   "execution_count": 9,
   "id": "0e81451f-28c2-4d7e-8cce-713bac19f0ca",
   "metadata": {},
   "outputs": [],
   "source": [
    "#mapping\n",
    "#insert a input or arg\n",
    "def function1(x):\n",
    "        return 2*x\n",
    "    "
   ]
  },
  {
   "cell_type": "code",
   "execution_count": 10,
   "id": "ccfb0a8d-791a-4fe3-8d53-e6e867dacc1c",
   "metadata": {},
   "outputs": [],
   "source": [
    "a = function1(3)"
   ]
  },
  {
   "cell_type": "code",
   "execution_count": 11,
   "id": "6ae30d52-aecb-4a01-be63-60255834cd1d",
   "metadata": {},
   "outputs": [
    {
     "name": "stdout",
     "output_type": "stream",
     "text": [
      "6\n"
     ]
    }
   ],
   "source": [
    "print(a)"
   ]
  },
  {
   "cell_type": "code",
   "execution_count": 12,
   "id": "92e9247f-3d84-4a72-965c-92349e328803",
   "metadata": {},
   "outputs": [],
   "source": [
    "b = function1(9)"
   ]
  },
  {
   "cell_type": "code",
   "execution_count": 13,
   "id": "e5829334-39f9-4d3b-850d-e16cfaa8740d",
   "metadata": {},
   "outputs": [
    {
     "name": "stdout",
     "output_type": "stream",
     "text": [
      "18\n"
     ]
    }
   ],
   "source": [
    "print(b)"
   ]
  },
  {
   "cell_type": "code",
   "execution_count": 14,
   "id": "685b789f-1f55-4a73-9fad-9a2997f4af7b",
   "metadata": {},
   "outputs": [],
   "source": [
    "c = function1(7)"
   ]
  },
  {
   "cell_type": "code",
   "execution_count": 15,
   "id": "8f91b5b1-4cac-4643-b845-7031dc693656",
   "metadata": {},
   "outputs": [
    {
     "name": "stdout",
     "output_type": "stream",
     "text": [
      "14\n"
     ]
    }
   ],
   "source": [
    "print(c)"
   ]
  },
  {
   "cell_type": "code",
   "execution_count": 17,
   "id": "6377709e-7301-44b9-8299-3173db772727",
   "metadata": {},
   "outputs": [],
   "source": [
    "def function3(x ,y):\n",
    "    return x + y"
   ]
  },
  {
   "cell_type": "code",
   "execution_count": 19,
   "id": "7a02e69e-fefb-4a13-9267-46b39e4e5b41",
   "metadata": {},
   "outputs": [],
   "source": [
    "e = function3(12 , 8)"
   ]
  },
  {
   "cell_type": "code",
   "execution_count": 20,
   "id": "84f07756-4c4e-4d6d-b224-6dcd72f321ac",
   "metadata": {},
   "outputs": [
    {
     "name": "stdout",
     "output_type": "stream",
     "text": [
      "20\n"
     ]
    }
   ],
   "source": [
    "print(e)"
   ]
  },
  {
   "cell_type": "code",
   "execution_count": 22,
   "id": "6dac3676-4c90-4bb2-a4da-b78aa083309c",
   "metadata": {},
   "outputs": [],
   "source": [
    "def function4(x):\n",
    "    print(x)\n",
    "    print(\"this is the function argument\")\n",
    "    return 4 * x"
   ]
  },
  {
   "cell_type": "code",
   "execution_count": 23,
   "id": "a669f404-9a1a-4eb9-8e09-e9f6f6294a5b",
   "metadata": {},
   "outputs": [
    {
     "name": "stdout",
     "output_type": "stream",
     "text": [
      "4\n",
      "this is the function argument\n"
     ]
    }
   ],
   "source": [
    "g = function4 (4)"
   ]
  },
  {
   "cell_type": "code",
   "execution_count": 24,
   "id": "a84582be-2c93-47c2-9279-1cd33041c8ba",
   "metadata": {},
   "outputs": [
    {
     "name": "stdout",
     "output_type": "stream",
     "text": [
      "16\n"
     ]
    }
   ],
   "source": [
    "print(g)"
   ]
  },
  {
   "cell_type": "code",
   "execution_count": 31,
   "id": "273176fc-bde8-41a0-9cd7-5a99b9727a01",
   "metadata": {},
   "outputs": [
    {
     "name": "stdout",
     "output_type": "stream",
     "text": [
      "ali's Body Mass Index is 6250.00\n",
      "Seesh! You are obese.\n",
      "Your IBM is accurate according your body\n",
      "awais's Body Mass Index is 66666.67\n",
      "Seesh! You are obese.\n",
      "Your IBM is accurate according your body\n",
      "haider's Body Mass Index is 21875.00\n",
      "Seesh! You are obese.\n",
      "Your IBM is accurate according your body\n"
     ]
    }
   ],
   "source": [
    "# Define the function to calculate BMI\n",
    "def calculate_bmi(name, height, weight):\n",
    "    # Calculate BMI\n",
    "    bmi = weight / (height / 100) ** 2\n",
    "    print(f\"{name}'s Body Mass Index is {bmi:.2f}\")\n",
    "    \n",
    "    # Determine the weight category\n",
    "    if bmi <= 18.5:\n",
    "        print(\"Oops! You are underweight.\")\n",
    "    elif bmi <= 24.9:\n",
    "        print(\"Awesome! You are healthy.\")\n",
    "    elif bmi <= 29.9:\n",
    "        print(\"Eee! You are overweight.\")\n",
    "    else:\n",
    "        print(\"Seesh! You are obese.\")\n",
    "    print(\"Your IBM is accurate according your body\") \n",
    "\n",
    "# Data for each person\n",
    "name1, height1, weight1 = \"ali\", 8, 40\n",
    "name2, height2, weight2 = \"awais\", 3, 60\n",
    "name3, height3, weight3 = \"haider\", 4, 35\n",
    "\n",
    "# Calculate and print BMI for each person\n",
    "calculate_bmi(name1, height1, weight1)\n",
    "calculate_bmi(name2, height2, weight2)\n",
    "calculate_bmi(name3, height3, weight3)\n"
   ]
  },
  {
   "cell_type": "code",
   "execution_count": null,
   "id": "3e585d63-73d8-4d03-8495-942bc92df075",
   "metadata": {},
   "outputs": [],
   "source": []
  }
 ],
 "metadata": {
  "kernelspec": {
   "display_name": "Python 3 (ipykernel)",
   "language": "python",
   "name": "python3"
  },
  "language_info": {
   "codemirror_mode": {
    "name": "ipython",
    "version": 3
   },
   "file_extension": ".py",
   "mimetype": "text/x-python",
   "name": "python",
   "nbconvert_exporter": "python",
   "pygments_lexer": "ipython3",
   "version": "3.11.7"
  }
 },
 "nbformat": 4,
 "nbformat_minor": 5
}
