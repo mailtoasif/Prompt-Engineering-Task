{
 "cells": [
  {
   "cell_type": "code",
   "execution_count": 4,
   "id": "fae7036e-479e-4a1e-bf57-e119a42bd090",
   "metadata": {},
   "outputs": [],
   "source": [
    "class Robot:\n",
    "    def __init__(self, n, c, w):\n",
    "        self.name = n\n",
    "        self.color = c\n",
    "        self.weight = w\n",
    "    \n",
    "    def introduce_self(self):\n",
    "        print(\"My name is \" +self.name)  #this is java"
   ]
  },
  {
   "cell_type": "code",
   "execution_count": 5,
   "id": "733945b1-3395-44cb-81d2-b6328af9530b",
   "metadata": {},
   "outputs": [],
   "source": [
    "r1 = Robot(\"Tom\" , \"red\", 30)\n",
    "r2 = Robot(\"jerry\" , \"blue\", 40)"
   ]
  },
  {
   "cell_type": "code",
   "execution_count": 7,
   "id": "b12b0c83-2f27-43b3-a4ac-96e34db4d8d0",
   "metadata": {},
   "outputs": [],
   "source": [
    "class Person:\n",
    "    def __init__(self, n, p, i):\n",
    "        self.name = n\n",
    "        self.personality = p\n",
    "        self.is_setting = i\n",
    "\n",
    "    def sit_down(self):\n",
    "        self.is_sitting = True\n",
    "        \n",
    "    def stand_up(self):\n",
    "        self.is_sitting = False\n",
    "        "
   ]
  },
  {
   "cell_type": "code",
   "execution_count": 9,
   "id": "d1d8fee9-6af6-4774-b299-a318ade7b7a3",
   "metadata": {},
   "outputs": [],
   "source": [
    "p1 = Person(\"awais\", \"Aggresive\", False)\n",
    "p2 = Person(\"ali\" , \"talkative\", True)"
   ]
  },
  {
   "cell_type": "code",
   "execution_count": 10,
   "id": "98dd1571-24ab-4139-be72-fb7669772283",
   "metadata": {},
   "outputs": [],
   "source": [
    "p1.robot_owned = r2\n",
    "p2.robot_owned =r2"
   ]
  },
  {
   "cell_type": "code",
   "execution_count": 13,
   "id": "970e5b5b-db0e-415a-afb6-a2123cde726d",
   "metadata": {},
   "outputs": [
    {
     "name": "stdout",
     "output_type": "stream",
     "text": [
      "My name is Tom\n"
     ]
    }
   ],
   "source": [
    "p2.robot_owned.introduce_self()"
   ]
  },
  {
   "cell_type": "code",
   "execution_count": null,
   "id": "e35c4afa-d1b4-4e9c-96a8-e50c663442af",
   "metadata": {},
   "outputs": [],
   "source": []
  }
 ],
 "metadata": {
  "kernelspec": {
   "display_name": "Python 3 (ipykernel)",
   "language": "python",
   "name": "python3"
  },
  "language_info": {
   "codemirror_mode": {
    "name": "ipython",
    "version": 3
   },
   "file_extension": ".py",
   "mimetype": "text/x-python",
   "name": "python",
   "nbconvert_exporter": "python",
   "pygments_lexer": "ipython3",
   "version": "3.11.7"
  }
 },
 "nbformat": 4,
 "nbformat_minor": 5
}
