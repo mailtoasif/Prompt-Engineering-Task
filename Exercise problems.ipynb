{
 "cells": [
  {
   "cell_type": "code",
   "execution_count": 6,
   "id": "6344edeb-f397-4be6-aa1f-c0cfc0166789",
   "metadata": {},
   "outputs": [],
   "source": [
    "def sleep_in(weekday, vacation):\n",
    " if weekday == False or vacation == True:\n",
    "    return true\n",
    " else:\n",
    "    return False"
   ]
  },
  {
   "cell_type": "code",
   "execution_count": 7,
   "id": "572fa789-fef0-4d32-81ef-83a35b8ea76e",
   "metadata": {},
   "outputs": [],
   "source": [
    "#warmp up2\n"
   ]
  },
  {
   "cell_type": "code",
   "execution_count": 10,
   "id": "432066b8-45ed-4da2-857e-a2f1565cd8e7",
   "metadata": {},
   "outputs": [
    {
     "name": "stdout",
     "output_type": "stream",
     "text": [
      "hihi\n"
     ]
    }
   ],
   "source": [
    "s = \"hi\"\n",
    "print(s + s)\n"
   ]
  },
  {
   "cell_type": "code",
   "execution_count": 12,
   "id": "619bb105-ce3f-44df-ab8e-6e1364fd9d94",
   "metadata": {},
   "outputs": [
    {
     "name": "stdout",
     "output_type": "stream",
     "text": [
      "hihihi\n"
     ]
    }
   ],
   "source": [
    "print(s + s + s)"
   ]
  },
  {
   "cell_type": "code",
   "execution_count": 13,
   "id": "3504523d-75b9-48ca-96d9-5d319117f4ee",
   "metadata": {},
   "outputs": [
    {
     "name": "stdout",
     "output_type": "stream",
     "text": [
      "hihihihi\n"
     ]
    }
   ],
   "source": [
    "print(s * 4)"
   ]
  },
  {
   "cell_type": "code",
   "execution_count": 15,
   "id": "ddbe7eed-120f-4f7a-98e2-273c2c3f8d02",
   "metadata": {},
   "outputs": [],
   "source": [
    "#warmp up 3\n",
    "def hello_name(name):\n",
    "    return \"hello\" + name + \"!\"\n"
   ]
  },
  {
   "cell_type": "code",
   "execution_count": null,
   "id": "0f7dd377-7ab9-4c41-bf56-bfa79d369f80",
   "metadata": {},
   "outputs": [],
   "source": []
  }
 ],
 "metadata": {
  "kernelspec": {
   "display_name": "Python 3 (ipykernel)",
   "language": "python",
   "name": "python3"
  },
  "language_info": {
   "codemirror_mode": {
    "name": "ipython",
    "version": 3
   },
   "file_extension": ".py",
   "mimetype": "text/x-python",
   "name": "python",
   "nbconvert_exporter": "python",
   "pygments_lexer": "ipython3",
   "version": "3.11.7"
  }
 },
 "nbformat": 4,
 "nbformat_minor": 5
}
