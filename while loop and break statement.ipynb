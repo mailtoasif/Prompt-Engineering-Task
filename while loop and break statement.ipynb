{
 "cells": [
  {
   "cell_type": "code",
   "execution_count": 3,
   "id": "e957ebff-6b2f-4487-808c-4d4a3ff51579",
   "metadata": {},
   "outputs": [
    {
     "name": "stdout",
     "output_type": "stream",
     "text": [
      "10\n"
     ]
    }
   ],
   "source": [
    "total = 0\n",
    "for i in range (1 , 5):\n",
    "    total += i\n",
    "print(total)"
   ]
  },
  {
   "cell_type": "code",
   "execution_count": 18,
   "id": "cd0c63ed-375f-4dc2-a681-b4fcbbc44fd7",
   "metadata": {},
   "outputs": [
    {
     "name": "stdout",
     "output_type": "stream",
     "text": [
      "15\n"
     ]
    }
   ],
   "source": [
    "total2 =0\n",
    "j = 1\n",
    "while j <=5:\n",
    "  total2 = total2 + j\n",
    "  j = j + 1\n",
    "print(total2)\n"
   ]
  },
  {
   "cell_type": "code",
   "execution_count": null,
   "id": "28579f0f-49d1-4348-8af0-c1cdb2cc23e3",
   "metadata": {},
   "outputs": [],
   "source": [
    "list = [1, 3, 3, 5, -5, -2, -9]\n"
   ]
  }
 ],
 "metadata": {
  "kernelspec": {
   "display_name": "Python 3 (ipykernel)",
   "language": "python",
   "name": "python3"
  },
  "language_info": {
   "codemirror_mode": {
    "name": "ipython",
    "version": 3
   },
   "file_extension": ".py",
   "mimetype": "text/x-python",
   "name": "python",
   "nbconvert_exporter": "python",
   "pygments_lexer": "ipython3",
   "version": "3.11.7"
  }
 },
 "nbformat": 4,
 "nbformat_minor": 5
}
