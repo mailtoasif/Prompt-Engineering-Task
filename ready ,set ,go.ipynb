{
 "cells": [
  {
   "cell_type": "code",
   "execution_count": 1,
   "id": "95914c04-8920-4823-8264-115ac0131ebf",
   "metadata": {},
   "outputs": [],
   "source": [
    "#set is type of data setthat store the things "
   ]
  },
  {
   "cell_type": "code",
   "execution_count": 2,
   "id": "a9a40f8e-d224-463c-9d97-b54965f3e8cc",
   "metadata": {},
   "outputs": [
    {
     "name": "stdout",
     "output_type": "stream",
     "text": [
      "set()\n"
     ]
    }
   ],
   "source": [
    "a = set()\n",
    "print (a)"
   ]
  },
  {
   "cell_type": "code",
   "execution_count": 3,
   "id": "b5c2be99-c738-4e90-8707-2b17f2d5f427",
   "metadata": {},
   "outputs": [
    {
     "name": "stdout",
     "output_type": "stream",
     "text": [
      "{1}\n"
     ]
    }
   ],
   "source": [
    "a.add(1)\n",
    "print(a)\n"
   ]
  },
  {
   "cell_type": "code",
   "execution_count": 4,
   "id": "fd52c892-1f9b-4809-ab82-fe3365a222dd",
   "metadata": {},
   "outputs": [
    {
     "name": "stdout",
     "output_type": "stream",
     "text": [
      "1\n"
     ]
    }
   ],
   "source": [
    "for x in a:\n",
    "    print(x)"
   ]
  },
  {
   "cell_type": "code",
   "execution_count": 12,
   "id": "02b1d35e-0c59-4b28-afde-29cea4afe6d0",
   "metadata": {},
   "outputs": [
    {
     "name": "stdout",
     "output_type": "stream",
     "text": [
      "{1, 4, 6, 7}\n"
     ]
    }
   ],
   "source": [
    "list = [1, 4, 6, 7]\n",
    "new_set = set()\n",
    "for e in list:\n",
    "     new_set.add(e)\n",
    "print(new_set)"
   ]
  },
  {
   "cell_type": "code",
   "execution_count": null,
   "id": "a8161920-cc05-4b36-92be-454a917513c3",
   "metadata": {},
   "outputs": [],
   "source": []
  }
 ],
 "metadata": {
  "kernelspec": {
   "display_name": "Python 3 (ipykernel)",
   "language": "python",
   "name": "python3"
  },
  "language_info": {
   "codemirror_mode": {
    "name": "ipython",
    "version": 3
   },
   "file_extension": ".py",
   "mimetype": "text/x-python",
   "name": "python",
   "nbconvert_exporter": "python",
   "pygments_lexer": "ipython3",
   "version": "3.11.7"
  }
 },
 "nbformat": 4,
 "nbformat_minor": 5
}
